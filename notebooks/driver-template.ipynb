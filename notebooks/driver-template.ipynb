{
 "cells": [
  {
   "cell_type": "code",
   "execution_count": 36,
   "id": "d7707baa",
   "metadata": {},
   "outputs": [],
   "source": [
    "import sys\n",
    "import os\n",
    "from time import sleep"
   ]
  },
  {
   "cell_type": "code",
   "execution_count": 14,
   "id": "dcaf8a80",
   "metadata": {},
   "outputs": [],
   "source": [
    "sys.path.append(\"/home/kefei/project/PlatformDriverAgent/\")\n",
    "os.chdir(\"/home/kefei/project/PlatformDriverAgent/\")"
   ]
  },
  {
   "cell_type": "code",
   "execution_count": 37,
   "id": "1f459f4f",
   "metadata": {},
   "outputs": [],
   "source": [
    "from platform_driver.interfaces.restapidriver \\\n",
    "import TemplateRegister, TemplateInterface, Interface, FakeRegister, RestAPIRegister"
   ]
  },
  {
   "cell_type": "code",
   "execution_count": null,
   "id": "d4a80b9d",
   "metadata": {},
   "outputs": [],
   "source": [
    "# test if the register is working"
   ]
  },
  {
   "cell_type": "code",
   "execution_count": 22,
   "id": "d58c3a29",
   "metadata": {},
   "outputs": [],
   "source": [
    "driver_config = {}\n",
    "point_name = \"bool_random\"\n",
    "data_type = bool\n",
    "units = \"1\"\n",
    "read_only = True\n",
    "# default_value = \n",
    "# (self, driver_config: dict, point_name: str, data_type: RegisterValue, units: str, read_only: bool,\n",
    "#                  default_value=None, description='')"
   ]
  },
  {
   "cell_type": "code",
   "execution_count": 23,
   "id": "b8fac1f3",
   "metadata": {},
   "outputs": [],
   "source": [
    "fake_register: FakeRegister = FakeRegister(driver_config, point_name, data_type, units, read_only) "
   ]
  },
  {
   "cell_type": "code",
   "execution_count": 33,
   "id": "9cd4a1e9",
   "metadata": {},
   "outputs": [
    {
     "data": {
      "text/plain": [
       "False"
      ]
     },
     "execution_count": 33,
     "metadata": {},
     "output_type": "execute_result"
    }
   ],
   "source": [
    "fake_register.get_register_value()"
   ]
  },
  {
   "cell_type": "code",
   "execution_count": 30,
   "id": "e14bd1f2",
   "metadata": {},
   "outputs": [
    {
     "data": {
      "text/plain": [
       "False"
      ]
     },
     "execution_count": 30,
     "metadata": {},
     "output_type": "execute_result"
    }
   ],
   "source": [
    "fake_register.value"
   ]
  },
  {
   "cell_type": "code",
   "execution_count": 34,
   "id": "8c1f5a78",
   "metadata": {},
   "outputs": [
    {
     "name": "stdout",
     "output_type": "stream",
     "text": [
      "False\n",
      "True\n",
      "True\n",
      "True\n",
      "True\n"
     ]
    }
   ],
   "source": [
    "count = 5\n",
    "while count>0:\n",
    "    print(fake_register.value)\n",
    "    count -= 1"
   ]
  },
  {
   "cell_type": "code",
   "execution_count": 38,
   "id": "a445a476",
   "metadata": {},
   "outputs": [],
   "source": [
    "driver_config = {\"url\": \"https://www.boredapi.com/api/activity?participants=1\"}\n",
    "point_name = \"api_json_str\"\n",
    "data_type = \"str\"\n",
    "units = \"1\"\n",
    "read_only = True\n",
    "\n",
    "restapi_registor: RestAPIRegister = RestAPIRegister(driver_config, point_name, data_type, units, read_only) "
   ]
  },
  {
   "cell_type": "code",
   "execution_count": 39,
   "id": "91a06026",
   "metadata": {},
   "outputs": [
    {
     "data": {
      "text/plain": [
       "\"{'activity': 'Look at pictures and videos of cute animals', 'type': 'relaxation', 'participants': 1, 'price': 0, 'link': '', 'key': '2565076', 'accessibility': 1}\""
      ]
     },
     "execution_count": 39,
     "metadata": {},
     "output_type": "execute_result"
    }
   ],
   "source": [
    "restapi_registor.get_register_value()"
   ]
  },
  {
   "cell_type": "code",
   "execution_count": 40,
   "id": "07d70073",
   "metadata": {},
   "outputs": [
    {
     "name": "stdout",
     "output_type": "stream",
     "text": [
      "{'activity': 'Prepare a 72-hour kit', 'type': 'busywork', 'participants': 1, 'price': 0.5, 'link': 'https://www.ready.gov/kit', 'key': '4266522', 'accessibility': 0.5}\n",
      "{'activity': 'Learn how to fold a paper crane', 'type': 'education', 'participants': 1, 'price': 0.1, 'link': '', 'key': '3136036', 'accessibility': 0.05}\n",
      "{'activity': 'Learn how to use a french press', 'type': 'recreational', 'participants': 1, 'price': 0.3, 'link': 'https://en.wikipedia.org/wiki/French_press', 'key': '4522866', 'accessibility': 0.3}\n",
      "{'activity': 'Take a nap', 'type': 'relaxation', 'participants': 1, 'price': 0, 'link': '', 'key': '6184514', 'accessibility': 0}\n",
      "{'activity': 'Write a thank you letter to an influential person in your life', 'type': 'social', 'participants': 1, 'price': 0, 'link': '', 'key': '4101229', 'accessibility': 0.1}\n"
     ]
    }
   ],
   "source": [
    "count = 5\n",
    "while count>0:\n",
    "    print(restapi_registor.value)\n",
    "    sleep(3)\n",
    "    count -= 1"
   ]
  },
  {
   "cell_type": "code",
   "execution_count": null,
   "id": "16b96ecc",
   "metadata": {},
   "outputs": [],
   "source": [
    "# driver_type = \"fakedriver\"\n",
    "# config_dict = {}\n",
    "# config_string = [{\"Point Name\": \"HPWH_Phy0_PowerState\",\n",
    "#                   \"Writable\": \"TRUE\",\n",
    "#                   \"Volttron Point Name\": \"PowerState\",\n",
    "#                   \"Units\": \"1/0\",\n",
    "#                   \"Starting Value\": \"0\",\n",
    "#                   \"Type\": \"int\"}]\n",
    "\n",
    "# with get_driver_agent() as driver_agent:\n",
    "#     interface = driver_agent.get_interface(driver_type, config_dict, config_string)\n",
    "\n",
    "#     assert isinstance(interface, FakeInterface)"
   ]
  },
  {
   "cell_type": "code",
   "execution_count": null,
   "id": "7c3b86d0",
   "metadata": {},
   "outputs": [],
   "source": []
  }
 ],
 "metadata": {
  "kernelspec": {
   "display_name": "Python 3 (ipykernel)",
   "language": "python",
   "name": "python3"
  },
  "language_info": {
   "codemirror_mode": {
    "name": "ipython",
    "version": 3
   },
   "file_extension": ".py",
   "mimetype": "text/x-python",
   "name": "python",
   "nbconvert_exporter": "python",
   "pygments_lexer": "ipython3",
   "version": "3.8.13"
  }
 },
 "nbformat": 4,
 "nbformat_minor": 5
}
